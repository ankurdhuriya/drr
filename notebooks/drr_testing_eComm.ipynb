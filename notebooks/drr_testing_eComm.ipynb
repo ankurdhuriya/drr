{
 "cells": [
  {
   "cell_type": "code",
   "execution_count": 1,
   "id": "06d81eac-aaac-46ac-90f9-24462b20b950",
   "metadata": {},
   "outputs": [],
   "source": [
    "import sys\n",
    "sys.path.insert(0, '../')"
   ]
  },
  {
   "cell_type": "code",
   "execution_count": 10,
   "id": "da747f3c-b917-4093-866e-bc26e4f345ed",
   "metadata": {},
   "outputs": [],
   "source": [
    "import pickle\n",
    "import os\n",
    "import random\n",
    "import numpy as np\n",
    "import pandas as pd\n",
    "\n",
    "import torch\n",
    "import torch.nn as nn\n",
    "from model.model import Actor, Critic, DRRAveStateRepresentation, PMF\n",
    "from utils.history_buffer import HistoryBuffer"
   ]
  },
  {
   "cell_type": "code",
   "execution_count": 31,
   "id": "ca506c92-6089-4791-a802-aa383cf4c178",
   "metadata": {},
   "outputs": [],
   "source": [
    "import matplotlib.pyplot as plt"
   ]
  },
  {
   "cell_type": "code",
   "execution_count": 5,
   "id": "baf376a4-f444-456c-8e97-c9dcb8010029",
   "metadata": {},
   "outputs": [],
   "source": [
    "saved_weights_dir = '../results/220629-143349/'\n",
    "pmf_weight = '../trained/trained_pmf.pt'\n",
    "test_data_path = '../dataset/test_data.npy'"
   ]
  },
  {
   "cell_type": "code",
   "execution_count": 6,
   "id": "b9cd2783-0114-45d2-8354-4bbb547181a6",
   "metadata": {},
   "outputs": [
    {
     "name": "stdout",
     "output_type": "stream",
     "text": [
      "(25267, 4)\n"
     ]
    }
   ],
   "source": [
    "test_data = np.load(test_data_path)\n",
    "print(test_data.shape)"
   ]
  },
  {
   "cell_type": "code",
   "execution_count": 8,
   "id": "0414d9d9-838d-42b0-ac14-bb038dcf0409",
   "metadata": {},
   "outputs": [],
   "source": [
    "history_buffer_size = 5\n",
    "embedding_feature_size = 100"
   ]
  },
  {
   "cell_type": "code",
   "execution_count": 12,
   "id": "5a4acfd4-11ee-45ec-b0ad-dd13e938ebfe",
   "metadata": {},
   "outputs": [
    {
     "data": {
      "text/plain": [
       "<All keys matched successfully>"
      ]
     },
     "execution_count": 12,
     "metadata": {},
     "output_type": "execute_result"
    }
   ],
   "source": [
    "# load params\n",
    "\n",
    "state_rep_net = DRRAveStateRepresentation(n_items=history_buffer_size, item_features=embedding_feature_size, user_features=embedding_feature_size)\n",
    "state_rep_net.load_state_dict(torch.load(os.path.join(saved_weights_dir, 'state_rep_net.weights')))\n",
    "\n",
    "actor_net = Actor(in_features=3 * embedding_feature_size, out_features=embedding_feature_size)\n",
    "actor_net.load_state_dict(torch.load(os.path.join(saved_weights_dir, 'actor_net.weights')))"
   ]
  },
  {
   "cell_type": "code",
   "execution_count": 13,
   "id": "ae30a873-609b-4d2e-b1cc-eb22179c8e38",
   "metadata": {},
   "outputs": [],
   "source": [
    "with open('../dataset/user_num_to_id.pkl', 'rb') as f:\n",
    "    users = pickle.load(f)\n",
    "\n",
    "with open('../dataset/item_num_to_id.pkl', 'rb') as f:\n",
    "    items = pickle.load(f)\n",
    "\n",
    "NUM_USERS, NUM_ITEMS = len(users), len(items)"
   ]
  },
  {
   "cell_type": "code",
   "execution_count": 15,
   "id": "f606d47e-f49e-412e-8d9b-b5dcc55ed723",
   "metadata": {},
   "outputs": [],
   "source": [
    "reward_function = PMF(NUM_USERS, NUM_ITEMS, embedding_feature_size, is_sparse=False, no_cuda=True)\n",
    "\n",
    "reward_function.load_state_dict(torch.load(pmf_weight))\n",
    "for param in reward_function.parameters():\n",
    "    param.requires_grad = False\n",
    "    \n",
    "user_embeddings, item_embeddings = reward_function.user_embeddings.weight.data, reward_function.item_embeddings.weight.data"
   ]
  },
  {
   "cell_type": "code",
   "execution_count": 17,
   "id": "d351e293-5ea1-4966-9fdc-e62c041b4d4c",
   "metadata": {},
   "outputs": [
    {
     "data": {
      "text/plain": [
       "(torch.Size([5380, 100]), torch.Size([15286, 100]))"
      ]
     },
     "execution_count": 17,
     "metadata": {},
     "output_type": "execute_result"
    }
   ],
   "source": [
    "user_embeddings.shape, item_embeddings.shape"
   ]
  },
  {
   "cell_type": "code",
   "execution_count": 28,
   "id": "46d2033b-21e9-4873-984b-44edaabf699b",
   "metadata": {},
   "outputs": [],
   "source": [
    "def calculate_ndcg(rel, irel):\n",
    "    dcg = 0\n",
    "    idcg = 0\n",
    "    for i, (r, ir) in enumerate(zip(rel, irel)):\n",
    "        dcg += (r)/np.log2(i+2)\n",
    "        idcg += (ir)/np.log2(i+2)\n",
    "    return dcg, idcg\n",
    "\n",
    "def discretize_reward_(x):\n",
    "    x = x.item()\n",
    "    if x<=1:\n",
    "        return torch.tensor(1.0, dtype=torch.float64)\n",
    "    elif x<=2:\n",
    "        return torch.tensor(2.0, dtype=torch.float64)\n",
    "    else:\n",
    "        return torch.tensor(3.0, dtype=torch.float64)"
   ]
  },
  {
   "cell_type": "code",
   "execution_count": 21,
   "id": "341fb027-7d03-4064-8768-8c2acb8a17db",
   "metadata": {},
   "outputs": [],
   "source": [
    "user_idxs = np.unique(test_data[:, 0])\n",
    "np.random.seed(121)\n",
    "np.random.shuffle(user_idxs)"
   ]
  },
  {
   "cell_type": "code",
   "execution_count": 23,
   "id": "986efb28-d6bd-46c1-b4e4-fc9f10291f99",
   "metadata": {},
   "outputs": [],
   "source": [
    "test_data = torch.from_numpy(test_data)"
   ]
  },
  {
   "cell_type": "code",
   "execution_count": 25,
   "id": "3f1b748e-1a8b-4f43-a650-6a8d96cbed1d",
   "metadata": {},
   "outputs": [],
   "source": [
    "device = torch.device('cpu')"
   ]
  },
  {
   "cell_type": "code",
   "execution_count": 29,
   "id": "f1108ad3-d510-44c1-b8a9-6e44668ebc46",
   "metadata": {},
   "outputs": [
    {
     "name": "stdout",
     "output_type": "stream",
     "text": [
      "T 1 mean precision 0.14, mean_ndcg 0.14, avg reward 2.14 total steps/users 2545\n",
      "T 2 mean precision 0.15, mean_ndcg 0.15, avg reward 2.15 total steps/users 2545\n",
      "T 3 mean precision 0.14, mean_ndcg 0.14, avg reward 2.14 total steps/users 2545\n",
      "T 4 mean precision 0.15, mean_ndcg 0.15, avg reward 2.14 total steps/users 2545\n",
      "T 5 mean precision 0.14, mean_ndcg 0.14, avg reward 2.13 total steps/users 2545\n",
      "T 6 mean precision 0.13, mean_ndcg 0.14, avg reward 2.13 total steps/users 2545\n",
      "T 7 mean precision 0.13, mean_ndcg 0.14, avg reward 2.10 total steps/users 2545\n",
      "T 8 mean precision 0.13, mean_ndcg 0.13, avg reward 2.09 total steps/users 2545\n",
      "T 9 mean precision 0.13, mean_ndcg 0.13, avg reward 2.10 total steps/users 2545\n",
      "T 10 mean precision 0.12, mean_ndcg 0.13, avg reward 2.06 total steps/users 2545\n"
     ]
    }
   ],
   "source": [
    "history_buffer = HistoryBuffer(history_buffer_size)\n",
    "eps_eval = 0.1\n",
    "\n",
    "precision = []\n",
    "ndcg = []\n",
    "mean_rewards = []\n",
    "x = [*range(1, 11)]\n",
    "\n",
    "for T in range(1, 11):\n",
    "    mean_ndcg, mean_precision, steps = 0, 0, 0 \n",
    "    \n",
    "    r = 0\n",
    "    \n",
    "    for index, e in enumerate(user_idxs):\n",
    "        \n",
    "        # extract user reviews and positive user reviews for user id\n",
    "        user_reviews = test_data[test_data[:, 0] == e]\n",
    "        pos_user_reviews = user_reviews[user_reviews[:, 2] > 0]\n",
    "\n",
    "        # history should be sufficient\n",
    "        if pos_user_reviews.shape[0] < history_buffer_size:\n",
    "            continue\n",
    "            \n",
    "        steps += 1    \n",
    "        # sort user history by timestamp\n",
    "        user_reviews = user_reviews[user_reviews[:, 3].sort(descending=True)[1]]\n",
    "        pos_user_reviews = pos_user_reviews[pos_user_reviews[:, 3].sort(descending=True)[1]]\n",
    "\n",
    "        # canditate items embedding for recommendation\n",
    "        candidate_items = item_embeddings.detach().clone().to(device)\n",
    "\n",
    "        # get user embedding\n",
    "        user_emb = user_embeddings[e]\n",
    "        \n",
    "        history_buffer.clear()\n",
    "        \n",
    "        # fill up history buffer\n",
    "        for i in range(history_buffer_size):\n",
    "            emb = candidate_items[pos_user_reviews[i, 1]]\n",
    "            history_buffer.push(emb.detach().clone())\n",
    "\n",
    "        # get action\n",
    "        with torch.no_grad():\n",
    "            # use state rep net weights to get state (input args is user embedding and history buffer)\n",
    "            state = state_rep_net(user_emb, torch.stack(history_buffer.to_list()))\n",
    "            \n",
    "            if np.random.uniform(0, 1) < eps_eval:\n",
    "                action = torch.from_numpy(0.1 * np.random.rand(100)).float().to(device)\n",
    "            else:\n",
    "                action = actor_net(state.detach())\n",
    "            \n",
    "\n",
    "        # matmul for ranking scores\n",
    "        ranking_scores = candidate_items @ action\n",
    "\n",
    "        # get top T item indices\n",
    "        values, indices = torch.topk(ranking_scores, T)\n",
    "        \n",
    "        # calculate reward for predictions\n",
    "        rewards = [reward_function(torch.tensor(e).to(device) ,rec_item_index) for rec_item_index in indices]\n",
    "        rewards = [discretize_reward_(reward).item() for reward in rewards]\n",
    "        \n",
    "        r += np.mean(rewards)\n",
    "\n",
    "        correct_list = [1 if r ==3.0 else 0 for r in rewards]\n",
    "        dcg, idcg = calculate_ndcg(correct_list, [1 for _ in range(len(rewards))])\n",
    "        mean_ndcg += dcg/idcg\n",
    "        \n",
    "        correct_num = T-correct_list.count(0)\n",
    "      \n",
    "        mean_precision += correct_num/T\n",
    "    \n",
    "    precision.append(mean_precision/steps)\n",
    "    ndcg.append(mean_ndcg/steps)\n",
    "    mean_rewards.append(r/steps)\n",
    "        \n",
    "    print(f\"T {T} mean precision {(mean_precision/steps):.2f}, mean_ndcg {(mean_ndcg/steps):.2f}, avg reward {(r/steps):.2f} total steps/users {steps}\")"
   ]
  },
  {
   "cell_type": "code",
   "execution_count": 32,
   "id": "4f551ce3-54b2-496b-a641-b8902f6dc7ca",
   "metadata": {},
   "outputs": [
    {
     "data": {
      "image/png": "[encoded data removed]",
      "text/plain": [
       "<Figure size 432x288 with 1 Axes>"
      ]
     },
     "metadata": {
      "needs_background": "light"
     },
     "output_type": "display_data"
    }
   ],
   "source": [
    "plt.plot([*range(1, 11)], mean_rewards, marker='o')\n",
    "plt.yticks(np.arange(2, 3, step=0.1))\n",
    "plt.xticks(np.arange(0, 11, step=1))\n",
    "plt.xlabel(\"K\")\n",
    "plt.ylabel(\"Avg rewards\")\n",
    "plt.savefig(\"Average rewards vs K\")\n",
    "plt.show()"
   ]
  },
  {
   "cell_type": "code",
   "execution_count": null,
   "id": "77988588-6dc0-4a2a-97a4-99363b0cf826",
   "metadata": {},
   "outputs": [],
   "source": []
  }
 ],
 "metadata": {
  "kernelspec": {
   "display_name": "Python 3 (ipykernel)",
   "language": "python",
   "name": "python3"
  },
  "language_info": {
   "codemirror_mode": {
    "name": "ipython",
    "version": 3
   },
   "file_extension": ".py",
   "mimetype": "text/x-python",
   "name": "python",
   "nbconvert_exporter": "python",
   "pygments_lexer": "ipython3",
   "version": "3.10.4"
  }
 },
 "nbformat": 4,
 "nbformat_minor": 5
}
